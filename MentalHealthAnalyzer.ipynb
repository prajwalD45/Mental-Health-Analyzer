{
  "cells": [
    {
      "cell_type": "code",
      "execution_count": null,
      "metadata": {
        "id": "SHkzBJQozjrE"
      },
      "outputs": [],
      "source": [
        "import numpy as np\n",
        "import pandas as pd\n",
        "from sklearn.model_selection import train_test_split\n",
        "\n",
        "from sklearn.metrics import accuracy_score\n",
        "from sklearn.preprocessing import LabelEncoder\n",
        "\n",
        "from sklearn.preprocessing import StandardScaler, MinMaxScaler\n",
        "from sklearn.metrics import precision_score, recall_score, f1_score, roc_auc_score, roc_curve\n",
        "\n",
        "from sklearn.svm import SVC\n",
        "import seaborn as sns\n",
        "\n",
        "\n"
      ]
    },
    {
      "cell_type": "code",
      "execution_count": null,
      "metadata": {},
      "outputs": [],
      "source": []
    },
    {
      "cell_type": "code",
      "execution_count": null,
      "metadata": {
        "id": "A1-zj2fWMjzO"
      },
      "outputs": [],
      "source": [
        "data = pd.read_csv('/content/tabular-actgan-65415ed27fe248f10ea57922-data.csv')"
      ]
    },
    {
      "cell_type": "code",
      "execution_count": null,
      "metadata": {
        "colab": {
          "base_uri": "https://localhost:8080/",
          "height": 536
        },
        "id": "cD_2ldnZMtqL",
        "outputId": "bc4ae3e5-ccc4-4696-b4f9-e96e54d959e6"
      },
      "outputs": [],
      "source": [
        "data.head()"
      ]
    },
    {
      "cell_type": "code",
      "execution_count": null,
      "metadata": {
        "colab": {
          "base_uri": "https://localhost:8080/"
        },
        "id": "cHpZQ-N2M0sc",
        "outputId": "cf07f94f-a85e-497e-8401-80b794df4a1e"
      },
      "outputs": [],
      "source": [
        "data.info()"
      ]
    },
    {
      "cell_type": "code",
      "execution_count": null,
      "metadata": {
        "colab": {
          "base_uri": "https://localhost:8080/"
        },
        "id": "9GWpxkwk-GF-",
        "outputId": "64a34de9-9252-4ade-9536-c4631113f7f1"
      },
      "outputs": [],
      "source": [
        "print(data.columns)"
      ]
    },
    {
      "cell_type": "code",
      "execution_count": null,
      "metadata": {
        "id": "TuPfDbciTeQv"
      },
      "outputs": [],
      "source": [
        "X = data.drop('depression_diagnosis', axis=1)\n",
        "y = data['depression_diagnosis']\n"
      ]
    },
    {
      "cell_type": "code",
      "execution_count": null,
      "metadata": {
        "id": "bP_HV3E-Tlzr"
      },
      "outputs": [],
      "source": [
        "X_train, X_test, y_train, y_test = train_test_split(X, y, test_size=0.2, random_state=42)\n"
      ]
    },
    {
      "cell_type": "code",
      "execution_count": null,
      "metadata": {
        "id": "5IWvLMla-EGY"
      },
      "outputs": [],
      "source": [
        "cat_col = [ 'gender', 'ethnicity', 'marital_status', 'education_level',\n",
        "       'employment_status', 'smoking_status']"
      ]
    },
    {
      "cell_type": "code",
      "execution_count": null,
      "metadata": {
        "id": "gRH62-ds-jzA"
      },
      "outputs": [],
      "source": [
        "num_col = ['age', 'income', 'social_support',\n",
        "       'stress_level', 'sleep_quality', 'exercise_frequency',\n",
        "       'alcohol_consumption', 'self_esteem_level',\n",
        "       'loneliness_level', 'life_satisfaction', 'positive_emotions',\n",
        "       'negative_emotions']"
      ]
    },
    {
      "cell_type": "code",
      "execution_count": null,
      "metadata": {
        "id": "KJPvsZhf-wDS"
      },
      "outputs": [],
      "source": [
        "bol_col = ['family_history' ,'drug_use',\n",
        "       'depression_diagnosis', 'anxiety_diagnosis', 'suicidal_thoughts',\n",
        "       'therapy_attendance', 'medication_usage']"
      ]
    },
    {
      "cell_type": "code",
      "execution_count": null,
      "metadata": {
        "id": "9RKHvaC3r1ND"
      },
      "outputs": [],
      "source": [
        "# Apply Label Encoding to categorical columns\n",
        "label_encoder_dict = {}\n",
        "for col in cat_col:\n",
        "    label_encoder = LabelEncoder()\n",
        "    X_train[col] = label_encoder.fit_transform(X_train[col])\n",
        "    X_test[col] = label_encoder.transform(X_test[col])\n",
        "    label_encoder_dict[col] = label_encoder"
      ]
    },
    {
      "cell_type": "code",
      "execution_count": null,
      "metadata": {
        "id": "bdtFk30-T2fl"
      },
      "outputs": [],
      "source": [
        "# Standardize numerical features\n",
        "scaler = StandardScaler()\n",
        "X_train[num_col] = scaler.fit_transform(X_train[num_col])\n",
        "X_test[num_col] = scaler.transform(X_test[num_col])"
      ]
    },
    {
      "cell_type": "code",
      "execution_count": null,
      "metadata": {
        "colab": {
          "base_uri": "https://localhost:8080/"
        },
        "id": "e-AtdYNuo8C3",
        "outputId": "b917ee6d-400e-462c-ac0d-74584b7869d5"
      },
      "outputs": [],
      "source": [
        "from sklearn.feature_selection import SelectKBest, f_classif\n",
        "\n",
        "# Assume X_train is your feature matrix, and y_train is the target variable\n",
        "selector = SelectKBest(score_func=f_classif, k=10)\n",
        "X_new = selector.fit_transform(X_train, y_train)\n",
        "\n",
        "# Get the names of the top features\n",
        "top_feature_indices = selector.get_support(indices=True)\n",
        "top_feature_names = X_train.columns[top_feature_indices]\n",
        "\n",
        "print(\"Top Feature Names:\", top_feature_names)"
      ]
    },
    {
      "cell_type": "code",
      "execution_count": null,
      "metadata": {
        "colab": {
          "base_uri": "https://localhost:8080/",
          "height": 604
        },
        "id": "wjrZOctSqN11",
        "outputId": "0cbe3427-5a07-4663-e415-792061278a36"
      },
      "outputs": [],
      "source": [
        "# Extract the top features from X_train\n",
        "X_top_features = X_train[top_feature_names]\n",
        "\n",
        "# Concatenate the top features with the target variable (y_train)\n",
        "data_for_corr = pd.concat([X_top_features, y_train], axis=1)\n",
        "\n",
        "# Calculate the correlation matrix\n",
        "corr_matrix = data_for_corr.corr()\n",
        "\n",
        "# Set up the matplotlib figure\n",
        "plt.figure(figsize=(12, 10))\n",
        "\n",
        "# Draw the heatmap using seaborn\n",
        "sns.heatmap(corr_matrix, annot=True, cmap='coolwarm', fmt=\".2f\", linewidths=.5)\n",
        "\n",
        "# Show the plot\n",
        "plt.title(\"Correlation Matrix for Top Selected Features\")\n",
        "plt.show()"
      ]
    },
    {
      "cell_type": "code",
      "execution_count": null,
      "metadata": {
        "id": "x4lHxCXnpbcg"
      },
      "outputs": [],
      "source": [
        "top_feature_names = ['age', 'social_support', 'sleep_quality', 'anxiety_diagnosis',\n",
        "       'suicidal_thoughts', 'therapy_attendance', 'medication_usage',\n",
        "       'self_esteem_level', 'loneliness_level', 'positive_emotions']"
      ]
    },
    {
      "cell_type": "code",
      "execution_count": null,
      "metadata": {
        "id": "YamkLWcmuW58"
      },
      "outputs": [],
      "source": []
    },
    {
      "cell_type": "code",
      "execution_count": null,
      "metadata": {
        "id": "jg5sCNRzjxmD"
      },
      "outputs": [],
      "source": [
        "from keras.models import Sequential\n",
        "from keras.layers import Dense"
      ]
    },
    {
      "cell_type": "code",
      "execution_count": null,
      "metadata": {
        "colab": {
          "base_uri": "https://localhost:8080/"
        },
        "id": "PTJsl6ygky6C",
        "outputId": "4af9adee-8e38-48f9-db80-d0c390a93da4"
      },
      "outputs": [],
      "source": [
        "from keras.layers import BatchNormalization\n",
        "\n",
        "model = Sequential()\n",
        "model.add(Dense(64, input_dim=X_train[top_feature_names].shape[1], activation='relu'))\n",
        "model.add(BatchNormalization())\n",
        "model.add(Dense(32, activation='relu'))\n",
        "model.add(BatchNormalization())\n",
        "model.add(Dense(1, activation='sigmoid'))\n",
        "from keras.layers import Dropout\n",
        "\n",
        "\n",
        "# Compile the model\n",
        "model.compile(optimizer='adam', loss='binary_crossentropy', metrics=['accuracy'])\n",
        "\n",
        "# Train the model\n",
        "history = model.fit(X_train[top_feature_names], y_train, epochs=10, batch_size=32, validation_split=0.2, verbose=1)\n",
        "\n",
        "# Evaluate the model on the test set\n",
        "loss, accuracy = model.evaluate(X_test[top_feature_names], y_test)\n",
        "print(f'Neural Network Accuracy: {accuracy:.4f}')\n",
        "\n",
        "# Save the model\n",
        "model.save(\"depression_diagnosis.h5\")\n"
      ]
    },
    {
      "cell_type": "code",
      "execution_count": null,
      "metadata": {
        "id": "gb512JXNFRKp"
      },
      "outputs": [],
      "source": [
        "# Save the model\n",
        "model.save(\"suicidal_thoughts_model.h5\")"
      ]
    },
    {
      "cell_type": "code",
      "execution_count": null,
      "metadata": {
        "colab": {
          "base_uri": "https://localhost:8080/"
        },
        "id": "zGghkr6ulqyI",
        "outputId": "470559c6-0695-49fa-d22f-07b72249cee5"
      },
      "outputs": [],
      "source": [
        "from sklearn.metrics import classification_report, confusion_matrix\n",
        "\n",
        "# Assuming model is your trained neural network model\n",
        "y_pred = model.predict(X_test[top_feature_names])\n",
        "y_pred_binary = (y_pred > 0.5).astype(int)  # Assuming it's a binary classification task\n",
        "\n",
        "# Print classification report\n",
        "print(\"Neural Network Classification Report:\")\n",
        "print(classification_report(y_test, y_pred_binary))\n",
        "\n",
        "# Print confusion matrix\n",
        "print(\"Confusion Matrix:\")\n",
        "print(confusion_matrix(y_test, y_pred_binary))"
      ]
    }
  ],
  "metadata": {
    "colab": {
      "provenance": []
    },
    "kernelspec": {
      "display_name": "Python 3",
      "name": "python3"
    },
    "language_info": {
      "name": "python"
    }
  },
  "nbformat": 4,
  "nbformat_minor": 0
}
